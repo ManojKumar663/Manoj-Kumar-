{
 "cells": [
  {
   "cell_type": "code",
   "execution_count": 1,
   "metadata": {
    "_cell_guid": "b1076dfc-b9ad-4769-8c92-a6c4dae69d19",
    "_uuid": "8f2839f25d086af736a60e9eeb907d3b93b6e0e5",
    "execution": {
     "iopub.execute_input": "2024-12-17T08:40:13.942649Z",
     "iopub.status.busy": "2024-12-17T08:40:13.942326Z",
     "iopub.status.idle": "2024-12-17T08:40:15.253599Z",
     "shell.execute_reply": "2024-12-17T08:40:15.252343Z",
     "shell.execute_reply.started": "2024-12-17T08:40:13.942625Z"
    },
    "trusted": true
   },
   "outputs": [
    {
     "name": "stdout",
     "output_type": "stream",
     "text": [
      "/kaggle/input/ibm-hr-analytics-attrition-dataset/WA_Fn-UseC_-HR-Employee-Attrition.csv\n"
     ]
    }
   ],
   "source": [
    "# This Python 3 environment comes with many helpful analytics libraries installed\n",
    "# It is defined by the kaggle/python Docker image: https://github.com/kaggle/docker-python\n",
    "# For example, here's several helpful packages to load\n",
    "\n",
    "import numpy as np # linear algebra\n",
    "import pandas as pd # data processing, CSV file I/O (e.g. pd.read_csv)\n",
    "\n",
    "# Input data files are available in the read-only \"../input/\" directory\n",
    "# For example, running this (by clicking run or pressing Shift+Enter) will list all files under the input directory\n",
    "\n",
    "import os\n",
    "for dirname, _, filenames in os.walk('/kaggle/input/ibm-hr-analytics-attrition-dataset'):\n",
    "    for filename in filenames:\n",
    "        print(os.path.join(dirname, filename))\n",
    "\n",
    "# You can write up to 20GB to the current directory (/kaggle/working/) that gets preserved as output when you create a version using \"Save & Run All\" \n",
    "# You can also write temporary files to /kaggle/temp/, but they won't be saved outside of the current session"
   ]
  },
  {
   "cell_type": "code",
   "execution_count": 2,
   "metadata": {
    "execution": {
     "iopub.execute_input": "2024-12-17T08:40:57.673877Z",
     "iopub.status.busy": "2024-12-17T08:40:57.673436Z",
     "iopub.status.idle": "2024-12-17T08:40:57.705207Z",
     "shell.execute_reply": "2024-12-17T08:40:57.704423Z",
     "shell.execute_reply.started": "2024-12-17T08:40:57.673849Z"
    },
    "trusted": true
   },
   "outputs": [],
   "source": [
    "df=pd.read_csv('/kaggle/input/ibm-hr-analytics-attrition-dataset/WA_Fn-UseC_-HR-Employee-Attrition.csv')"
   ]
  },
  {
   "cell_type": "code",
   "execution_count": 3,
   "metadata": {
    "execution": {
     "iopub.execute_input": "2024-12-17T08:41:05.507762Z",
     "iopub.status.busy": "2024-12-17T08:41:05.506934Z",
     "iopub.status.idle": "2024-12-17T08:41:05.545400Z",
     "shell.execute_reply": "2024-12-17T08:41:05.544572Z",
     "shell.execute_reply.started": "2024-12-17T08:41:05.507710Z"
    },
    "trusted": true
   },
   "outputs": [
    {
     "name": "stdout",
     "output_type": "stream",
     "text": [
      "<class 'pandas.core.frame.DataFrame'>\n",
      "RangeIndex: 1470 entries, 0 to 1469\n",
      "Data columns (total 35 columns):\n",
      " #   Column                    Non-Null Count  Dtype \n",
      "---  ------                    --------------  ----- \n",
      " 0   Age                       1470 non-null   int64 \n",
      " 1   Attrition                 1470 non-null   object\n",
      " 2   BusinessTravel            1470 non-null   object\n",
      " 3   DailyRate                 1470 non-null   int64 \n",
      " 4   Department                1470 non-null   object\n",
      " 5   DistanceFromHome          1470 non-null   int64 \n",
      " 6   Education                 1470 non-null   int64 \n",
      " 7   EducationField            1470 non-null   object\n",
      " 8   EmployeeCount             1470 non-null   int64 \n",
      " 9   EmployeeNumber            1470 non-null   int64 \n",
      " 10  EnvironmentSatisfaction   1470 non-null   int64 \n",
      " 11  Gender                    1470 non-null   object\n",
      " 12  HourlyRate                1470 non-null   int64 \n",
      " 13  JobInvolvement            1470 non-null   int64 \n",
      " 14  JobLevel                  1470 non-null   int64 \n",
      " 15  JobRole                   1470 non-null   object\n",
      " 16  JobSatisfaction           1470 non-null   int64 \n",
      " 17  MaritalStatus             1470 non-null   object\n",
      " 18  MonthlyIncome             1470 non-null   int64 \n",
      " 19  MonthlyRate               1470 non-null   int64 \n",
      " 20  NumCompaniesWorked        1470 non-null   int64 \n",
      " 21  Over18                    1470 non-null   object\n",
      " 22  OverTime                  1470 non-null   object\n",
      " 23  PercentSalaryHike         1470 non-null   int64 \n",
      " 24  PerformanceRating         1470 non-null   int64 \n",
      " 25  RelationshipSatisfaction  1470 non-null   int64 \n",
      " 26  StandardHours             1470 non-null   int64 \n",
      " 27  StockOptionLevel          1470 non-null   int64 \n",
      " 28  TotalWorkingYears         1470 non-null   int64 \n",
      " 29  TrainingTimesLastYear     1470 non-null   int64 \n",
      " 30  WorkLifeBalance           1470 non-null   int64 \n",
      " 31  YearsAtCompany            1470 non-null   int64 \n",
      " 32  YearsInCurrentRole        1470 non-null   int64 \n",
      " 33  YearsSinceLastPromotion   1470 non-null   int64 \n",
      " 34  YearsWithCurrManager      1470 non-null   int64 \n",
      "dtypes: int64(26), object(9)\n",
      "memory usage: 402.1+ KB\n"
     ]
    }
   ],
   "source": [
    "df.info()"
   ]
  },
  {
   "cell_type": "code",
   "execution_count": 4,
   "metadata": {
    "execution": {
     "iopub.execute_input": "2024-12-17T08:41:29.838250Z",
     "iopub.status.busy": "2024-12-17T08:41:29.837725Z",
     "iopub.status.idle": "2024-12-17T08:41:29.846749Z",
     "shell.execute_reply": "2024-12-17T08:41:29.845619Z",
     "shell.execute_reply.started": "2024-12-17T08:41:29.838210Z"
    },
    "trusted": true
   },
   "outputs": [],
   "source": [
    "df = df.drop(['Over18','EmployeeCount','EmployeeNumber','StandardHours'],axis=1)"
   ]
  },
  {
   "cell_type": "code",
   "execution_count": 5,
   "metadata": {
    "execution": {
     "iopub.execute_input": "2024-12-17T08:41:48.758730Z",
     "iopub.status.busy": "2024-12-17T08:41:48.758395Z",
     "iopub.status.idle": "2024-12-17T08:41:48.765291Z",
     "shell.execute_reply": "2024-12-17T08:41:48.763604Z",
     "shell.execute_reply.started": "2024-12-17T08:41:48.758707Z"
    },
    "trusted": true
   },
   "outputs": [],
   "source": [
    "df = df.drop(['PerformanceRating','HourlyRate','MonthlyRate'],axis=1)"
   ]
  },
  {
   "cell_type": "code",
   "execution_count": 10,
   "metadata": {
    "execution": {
     "iopub.execute_input": "2024-12-17T08:47:58.736653Z",
     "iopub.status.busy": "2024-12-17T08:47:58.736152Z",
     "iopub.status.idle": "2024-12-17T08:47:58.744792Z",
     "shell.execute_reply": "2024-12-17T08:47:58.743732Z",
     "shell.execute_reply.started": "2024-12-17T08:47:58.736624Z"
    },
    "trusted": true
   },
   "outputs": [],
   "source": [
    "from sklearn.preprocessing import LabelEncoder\n",
    "\n",
    "label_encoder = LabelEncoder()\n",
    "df['Attrition'] = label_encoder.fit_transform(df['Attrition'])\n",
    "df['Gender'] = label_encoder.fit_transform(df['Gender'])\n",
    "df['OverTime'] = label_encoder.fit_transform(df['OverTime'])\n",
    "df['MaritalStatus'] = label_encoder.fit_transform(df['MaritalStatus'])"
   ]
  },
  {
   "cell_type": "code",
   "execution_count": 11,
   "metadata": {
    "execution": {
     "iopub.execute_input": "2024-12-17T08:48:08.995176Z",
     "iopub.status.busy": "2024-12-17T08:48:08.994862Z",
     "iopub.status.idle": "2024-12-17T08:48:09.002540Z",
     "shell.execute_reply": "2024-12-17T08:48:09.001673Z",
     "shell.execute_reply.started": "2024-12-17T08:48:08.995151Z"
    },
    "trusted": true
   },
   "outputs": [
    {
     "name": "stdout",
     "output_type": "stream",
     "text": [
      "Unique values in 'BusinessTravel': ['Travel_Rarely' 'Travel_Frequently' 'Non-Travel']\n",
      "Unique values in 'Department': ['Sales' 'Research & Development' 'Human Resources']\n",
      "Unique values in 'EducationField': ['Life Sciences' 'Other' 'Medical' 'Marketing' 'Technical Degree'\n",
      " 'Human Resources']\n",
      "Unique values in 'JobRole': ['Sales Executive' 'Research Scientist' 'Laboratory Technician'\n",
      " 'Manufacturing Director' 'Healthcare Representative' 'Manager'\n",
      " 'Sales Representative' 'Research Director' 'Human Resources']\n"
     ]
    }
   ],
   "source": [
    "def get_unique_values(df, column_name):\n",
    "    unique_values = df[column_name].unique()\n",
    "    print(f\"Unique values in '{column_name}': {unique_values}\")\n",
    "    return unique_values\n",
    "\n",
    "# Call the function for 'BusinessTravel'\n",
    "unique_business_travel = get_unique_values(df, 'BusinessTravel')\n",
    "unique_business_travel = get_unique_values(df, 'Department')\n",
    "unique_business_travel = get_unique_values(df, 'EducationField')\n",
    "unique_business_travel = get_unique_values(df, 'JobRole')"
   ]
  },
  {
   "cell_type": "code",
   "execution_count": 12,
   "metadata": {
    "execution": {
     "iopub.execute_input": "2024-12-17T08:48:18.207495Z",
     "iopub.status.busy": "2024-12-17T08:48:18.207141Z",
     "iopub.status.idle": "2024-12-17T08:48:18.227810Z",
     "shell.execute_reply": "2024-12-17T08:48:18.226175Z",
     "shell.execute_reply.started": "2024-12-17T08:48:18.207470Z"
    },
    "trusted": true
   },
   "outputs": [],
   "source": [
    "df = pd.get_dummies(df, columns=['BusinessTravel'], drop_first=True)\n",
    "df= pd.get_dummies(df, columns=['Department'], drop_first=True)\n",
    "df = pd.get_dummies(df, columns=['EducationField'], drop_first=True)\n",
    "df = pd.get_dummies(df, columns=['JobRole'], drop_first=True)\n",
    "#df = pd.get_dummies(df, columns=['MaritalStatus'], drop_first=True)"
   ]
  },
  {
   "cell_type": "code",
   "execution_count": 13,
   "metadata": {
    "execution": {
     "iopub.execute_input": "2024-12-17T08:48:24.317241Z",
     "iopub.status.busy": "2024-12-17T08:48:24.316818Z",
     "iopub.status.idle": "2024-12-17T08:48:24.330822Z",
     "shell.execute_reply": "2024-12-17T08:48:24.329332Z",
     "shell.execute_reply.started": "2024-12-17T08:48:24.317195Z"
    },
    "trusted": true
   },
   "outputs": [
    {
     "name": "stdout",
     "output_type": "stream",
     "text": [
      "<class 'pandas.core.frame.DataFrame'>\n",
      "RangeIndex: 1470 entries, 0 to 1469\n",
      "Data columns (total 41 columns):\n",
      " #   Column                             Non-Null Count  Dtype\n",
      "---  ------                             --------------  -----\n",
      " 0   Age                                1470 non-null   int64\n",
      " 1   Attrition                          1470 non-null   int64\n",
      " 2   DailyRate                          1470 non-null   int64\n",
      " 3   DistanceFromHome                   1470 non-null   int64\n",
      " 4   Education                          1470 non-null   int64\n",
      " 5   EnvironmentSatisfaction            1470 non-null   int64\n",
      " 6   Gender                             1470 non-null   int64\n",
      " 7   JobInvolvement                     1470 non-null   int64\n",
      " 8   JobLevel                           1470 non-null   int64\n",
      " 9   JobSatisfaction                    1470 non-null   int64\n",
      " 10  MaritalStatus                      1470 non-null   int64\n",
      " 11  MonthlyIncome                      1470 non-null   int64\n",
      " 12  NumCompaniesWorked                 1470 non-null   int64\n",
      " 13  OverTime                           1470 non-null   int64\n",
      " 14  PercentSalaryHike                  1470 non-null   int64\n",
      " 15  RelationshipSatisfaction           1470 non-null   int64\n",
      " 16  StockOptionLevel                   1470 non-null   int64\n",
      " 17  TotalWorkingYears                  1470 non-null   int64\n",
      " 18  TrainingTimesLastYear              1470 non-null   int64\n",
      " 19  WorkLifeBalance                    1470 non-null   int64\n",
      " 20  YearsAtCompany                     1470 non-null   int64\n",
      " 21  YearsInCurrentRole                 1470 non-null   int64\n",
      " 22  YearsSinceLastPromotion            1470 non-null   int64\n",
      " 23  YearsWithCurrManager               1470 non-null   int64\n",
      " 24  BusinessTravel_Travel_Frequently   1470 non-null   bool \n",
      " 25  BusinessTravel_Travel_Rarely       1470 non-null   bool \n",
      " 26  Department_Research & Development  1470 non-null   bool \n",
      " 27  Department_Sales                   1470 non-null   bool \n",
      " 28  EducationField_Life Sciences       1470 non-null   bool \n",
      " 29  EducationField_Marketing           1470 non-null   bool \n",
      " 30  EducationField_Medical             1470 non-null   bool \n",
      " 31  EducationField_Other               1470 non-null   bool \n",
      " 32  EducationField_Technical Degree    1470 non-null   bool \n",
      " 33  JobRole_Human Resources            1470 non-null   bool \n",
      " 34  JobRole_Laboratory Technician      1470 non-null   bool \n",
      " 35  JobRole_Manager                    1470 non-null   bool \n",
      " 36  JobRole_Manufacturing Director     1470 non-null   bool \n",
      " 37  JobRole_Research Director          1470 non-null   bool \n",
      " 38  JobRole_Research Scientist         1470 non-null   bool \n",
      " 39  JobRole_Sales Executive            1470 non-null   bool \n",
      " 40  JobRole_Sales Representative       1470 non-null   bool \n",
      "dtypes: bool(17), int64(24)\n",
      "memory usage: 300.2 KB\n"
     ]
    }
   ],
   "source": [
    "df.info()"
   ]
  },
  {
   "cell_type": "code",
   "execution_count": 14,
   "metadata": {
    "execution": {
     "iopub.execute_input": "2024-12-17T08:49:10.552423Z",
     "iopub.status.busy": "2024-12-17T08:49:10.552069Z",
     "iopub.status.idle": "2024-12-17T08:49:10.566871Z",
     "shell.execute_reply": "2024-12-17T08:49:10.566080Z",
     "shell.execute_reply.started": "2024-12-17T08:49:10.552400Z"
    },
    "trusted": true
   },
   "outputs": [
    {
     "name": "stdout",
     "output_type": "stream",
     "text": [
      "Attrition                            1.000000\n",
      "OverTime                             0.246118\n",
      "MaritalStatus                        0.162070\n",
      "JobRole_Sales Representative         0.157234\n",
      "BusinessTravel_Travel_Frequently     0.115143\n",
      "JobRole_Laboratory Technician        0.098290\n",
      "Department_Sales                     0.080855\n",
      "DistanceFromHome                     0.077924\n",
      "EducationField_Technical Degree      0.069355\n",
      "EducationField_Marketing             0.055781\n",
      "NumCompaniesWorked                   0.043494\n",
      "JobRole_Human Resources              0.036215\n",
      "Gender                               0.029453\n",
      "JobRole_Sales Executive              0.019774\n",
      "JobRole_Research Scientist          -0.000360\n",
      "PercentSalaryHike                   -0.013478\n",
      "EducationField_Other                -0.017898\n",
      "Education                           -0.031373\n",
      "EducationField_Life Sciences        -0.032703\n",
      "YearsSinceLastPromotion             -0.033019\n",
      "RelationshipSatisfaction            -0.045872\n",
      "EducationField_Medical              -0.046999\n",
      "BusinessTravel_Travel_Rarely        -0.049538\n",
      "DailyRate                           -0.056652\n",
      "TrainingTimesLastYear               -0.059478\n",
      "WorkLifeBalance                     -0.063939\n",
      "JobRole_Manufacturing Director      -0.082994\n",
      "JobRole_Manager                     -0.083316\n",
      "Department_Research & Development   -0.085293\n",
      "JobRole_Research Director           -0.088870\n",
      "EnvironmentSatisfaction             -0.103369\n",
      "JobSatisfaction                     -0.103481\n",
      "JobInvolvement                      -0.130016\n",
      "YearsAtCompany                      -0.134392\n",
      "StockOptionLevel                    -0.137145\n",
      "YearsWithCurrManager                -0.156199\n",
      "Age                                 -0.159205\n",
      "MonthlyIncome                       -0.159840\n",
      "YearsInCurrentRole                  -0.160545\n",
      "JobLevel                            -0.169105\n",
      "TotalWorkingYears                   -0.171063\n",
      "Name: Attrition, dtype: float64\n"
     ]
    }
   ],
   "source": [
    "corr_matrix = df.corr()\n",
    "attrition_corr = corr_matrix['Attrition'].sort_values(ascending=False)\n",
    "print(attrition_corr)"
   ]
  },
  {
   "cell_type": "code",
   "execution_count": 15,
   "metadata": {
    "execution": {
     "iopub.execute_input": "2024-12-17T08:52:34.208197Z",
     "iopub.status.busy": "2024-12-17T08:52:34.207878Z",
     "iopub.status.idle": "2024-12-17T08:52:34.214080Z",
     "shell.execute_reply": "2024-12-17T08:52:34.213276Z",
     "shell.execute_reply.started": "2024-12-17T08:52:34.208172Z"
    },
    "trusted": true
   },
   "outputs": [],
   "source": [
    "df = df.drop(['NumCompaniesWorked','Gender','PercentSalaryHike','Education'],axis=1)"
   ]
  },
  {
   "cell_type": "code",
   "execution_count": 16,
   "metadata": {
    "execution": {
     "iopub.execute_input": "2024-12-17T08:52:55.978602Z",
     "iopub.status.busy": "2024-12-17T08:52:55.978237Z",
     "iopub.status.idle": "2024-12-17T08:52:55.984494Z",
     "shell.execute_reply": "2024-12-17T08:52:55.983402Z",
     "shell.execute_reply.started": "2024-12-17T08:52:55.978577Z"
    },
    "trusted": true
   },
   "outputs": [],
   "source": [
    "X  = df.drop('Attrition',axis=1)\n",
    "y = df['Attrition'].astype(int)"
   ]
  },
  {
   "cell_type": "code",
   "execution_count": 18,
   "metadata": {
    "execution": {
     "iopub.execute_input": "2024-12-17T08:54:32.767889Z",
     "iopub.status.busy": "2024-12-17T08:54:32.767565Z",
     "iopub.status.idle": "2024-12-17T08:54:33.000960Z",
     "shell.execute_reply": "2024-12-17T08:54:33.000025Z",
     "shell.execute_reply.started": "2024-12-17T08:54:32.767861Z"
    },
    "trusted": true
   },
   "outputs": [
    {
     "name": "stdout",
     "output_type": "stream",
     "text": [
      "Accuracy score is 84.35374149659864\n",
      "Model saved successfully!\n"
     ]
    }
   ],
   "source": [
    "import joblib\n",
    "from sklearn.model_selection import train_test_split\n",
    "X_train, X_test, y_train, y_test = train_test_split(X,y,test_size=0.30)\n",
    "from sklearn.ensemble import RandomForestClassifier\n",
    "classifier = RandomForestClassifier()\n",
    "classifier.fit(X=X_train,y=y_train)\n",
    "test_pred = classifier.predict(X_test)\n",
    "from sklearn.metrics import accuracy_score, confusion_matrix\n",
    "accuracyrf = accuracy_score(y_test,test_pred)\n",
    "print('Accuracy score is ' + str((accuracyrf * 100 )) )\n",
    "joblib.dump(classifier, 'eapmp_rf.pkl')  # You can change the file path if needed\n",
    "\n",
    "print(\"Model saved successfully!\")"
   ]
  },
  {
   "cell_type": "code",
   "execution_count": 22,
   "metadata": {
    "execution": {
     "iopub.execute_input": "2024-12-17T08:55:17.803849Z",
     "iopub.status.busy": "2024-12-17T08:55:17.803521Z",
     "iopub.status.idle": "2024-12-17T08:55:17.845993Z",
     "shell.execute_reply": "2024-12-17T08:55:17.844575Z",
     "shell.execute_reply.started": "2024-12-17T08:55:17.803823Z"
    },
    "trusted": true
   },
   "outputs": [
    {
     "name": "stdout",
     "output_type": "stream",
     "text": [
      "Accuracy score is 84.6938775510204\n",
      "Model saved successfully!\n"
     ]
    }
   ],
   "source": [
    "import joblib\n",
    "from sklearn.model_selection import train_test_split\n",
    "from sklearn.svm import SVC  # Importing the SVC model\n",
    "from sklearn.metrics import accuracy_score, confusion_matrix\n",
    "\n",
    "# Split the data into training and testing sets\n",
    "X_train, X_test, y_train, y_test = train_test_split(X, y, test_size=0.40)\n",
    "\n",
    "# Initialize the SVC model\n",
    "classifier = SVC()\n",
    "\n",
    "# Fit the model to the training data\n",
    "classifier.fit(X_train, y_train)\n",
    "\n",
    "# Make predictions on the test set\n",
    "test_pred = classifier.predict(X_test)\n",
    "\n",
    "# Calculate accuracy\n",
    "accuracysvc = accuracy_score(y_test, test_pred)\n",
    "print('Accuracy score is ' + str((accuracysvc * 100)))\n",
    "\n",
    "# Save the trained model\n",
    "joblib.dump(classifier, 'eapmp_svc.pkl')  # You can change the file path if needed\n",
    "\n",
    "print(\"Model saved successfully!\")"
   ]
  },
  {
   "cell_type": "code",
   "execution_count": 28,
   "metadata": {
    "execution": {
     "iopub.execute_input": "2024-12-17T09:10:04.766899Z",
     "iopub.status.busy": "2024-12-17T09:10:04.766583Z",
     "iopub.status.idle": "2024-12-17T09:10:04.848879Z",
     "shell.execute_reply": "2024-12-17T09:10:04.847555Z",
     "shell.execute_reply.started": "2024-12-17T09:10:04.766875Z"
    },
    "trusted": true
   },
   "outputs": [
    {
     "name": "stdout",
     "output_type": "stream",
     "text": [
      "[LightGBM] [Warning] Found whitespace in feature_names, replace with underlines\n",
      "[LightGBM] [Info] Number of positive: 165, number of negative: 864\n",
      "[LightGBM] [Info] Auto-choosing row-wise multi-threading, the overhead of testing was 0.000205 seconds.\n",
      "You can set `force_row_wise=true` to remove the overhead.\n",
      "And if memory is not enough, you can set `force_col_wise=true`.\n",
      "[LightGBM] [Info] Total Bins 780\n",
      "[LightGBM] [Info] Number of data points in the train set: 1029, number of used features: 36\n",
      "[LightGBM] [Info] [binary:BoostFromScore]: pavg=0.160350 -> initscore=-1.655627\n",
      "[LightGBM] [Info] Start training from score -1.655627\n",
      "[LightGBM] [Warning] No further splits with positive gain, best gain: -inf\n",
      "Accuracy score is 85.71428571428571\n",
      "Model saved successfully!\n"
     ]
    }
   ],
   "source": [
    "import joblib\n",
    "from sklearn.model_selection import train_test_split\n",
    "#from sklearn.linear_model import LogisticRegression  # Importing the Logistic Regression model\n",
    "from lightgbm import LGBMClassifier\n",
    "from sklearn.metrics import accuracy_score, confusion_matrix\n",
    "\n",
    "# Split the data into training and testing sets\n",
    "X_train, X_test, y_train, y_test = train_test_split(X, y, test_size=0.30)\n",
    "\n",
    "\n",
    "\n",
    "classifier = LGBMClassifier()\n",
    "\n",
    "# Fit the model to the training data\n",
    "classifier.fit(X_train, y_train)\n",
    "\n",
    "# Make predictions on the test set\n",
    "test_pred = classifier.predict(X_test)\n",
    "\n",
    "# Calculate accuracy\n",
    "accuracylgb = accuracy_score(y_test, test_pred)\n",
    "print('Accuracy score is ' + str((accuracy * 100)))\n",
    "\n",
    "# Save the trained model\n",
    "joblib.dump(classifier, 'eapmp_LGB.pkl')  # You can change the file path if needed\n",
    "\n",
    "print(\"Model saved successfully!\")"
   ]
  },
  {
   "cell_type": "code",
   "execution_count": 27,
   "metadata": {
    "execution": {
     "iopub.execute_input": "2024-12-17T09:09:44.906128Z",
     "iopub.status.busy": "2024-12-17T09:09:44.905241Z",
     "iopub.status.idle": "2024-12-17T09:09:50.310145Z",
     "shell.execute_reply": "2024-12-17T09:09:50.309161Z",
     "shell.execute_reply.started": "2024-12-17T09:09:44.906095Z"
    },
    "trusted": true
   },
   "outputs": [
    {
     "name": "stdout",
     "output_type": "stream",
     "text": [
      "Epoch 1/5\n",
      "\u001b[1m26/26\u001b[0m \u001b[32m━━━━━━━━━━━━━━━━━━━━\u001b[0m\u001b[37m\u001b[0m \u001b[1m2s\u001b[0m 13ms/step - accuracy: 0.8207 - loss: 0.5238 - val_accuracy: 0.7913 - val_loss: 0.4719\n",
      "Epoch 2/5\n",
      "\u001b[1m26/26\u001b[0m \u001b[32m━━━━━━━━━━━━━━━━━━━━\u001b[0m\u001b[37m\u001b[0m \u001b[1m0s\u001b[0m 7ms/step - accuracy: 0.8246 - loss: 0.4290 - val_accuracy: 0.7913 - val_loss: 0.4365\n",
      "Epoch 3/5\n",
      "\u001b[1m26/26\u001b[0m \u001b[32m━━━━━━━━━━━━━━━━━━━━\u001b[0m\u001b[37m\u001b[0m \u001b[1m0s\u001b[0m 6ms/step - accuracy: 0.8350 - loss: 0.3603 - val_accuracy: 0.8301 - val_loss: 0.4191\n",
      "Epoch 4/5\n",
      "\u001b[1m26/26\u001b[0m \u001b[32m━━━━━━━━━━━━━━━━━━━━\u001b[0m\u001b[37m\u001b[0m \u001b[1m0s\u001b[0m 6ms/step - accuracy: 0.8927 - loss: 0.2855 - val_accuracy: 0.8010 - val_loss: 0.3997\n",
      "Epoch 5/5\n",
      "\u001b[1m26/26\u001b[0m \u001b[32m━━━━━━━━━━━━━━━━━━━━\u001b[0m\u001b[37m\u001b[0m \u001b[1m0s\u001b[0m 7ms/step - accuracy: 0.8960 - loss: 0.2694 - val_accuracy: 0.8204 - val_loss: 0.3954\n",
      "\u001b[1m33/33\u001b[0m \u001b[32m━━━━━━━━━━━━━━━━━━━━\u001b[0m\u001b[37m\u001b[0m \u001b[1m0s\u001b[0m 3ms/step\n",
      "\u001b[1m14/14\u001b[0m \u001b[32m━━━━━━━━━━━━━━━━━━━━\u001b[0m\u001b[37m\u001b[0m \u001b[1m0s\u001b[0m 2ms/step \n",
      "Epoch 1/10\n",
      "\u001b[1m13/13\u001b[0m \u001b[32m━━━━━━━━━━━━━━━━━━━━\u001b[0m\u001b[37m\u001b[0m \u001b[1m1s\u001b[0m 13ms/step - accuracy: 0.4020 - loss: 0.7144 - val_accuracy: 1.0000 - val_loss: 0.6081\n",
      "Epoch 2/10\n",
      "\u001b[1m13/13\u001b[0m \u001b[32m━━━━━━━━━━━━━━━━━━━━\u001b[0m\u001b[37m\u001b[0m \u001b[1m0s\u001b[0m 3ms/step - accuracy: 0.8748 - loss: 0.5856 - val_accuracy: 1.0000 - val_loss: 0.5026\n",
      "Epoch 3/10\n",
      "\u001b[1m13/13\u001b[0m \u001b[32m━━━━━━━━━━━━━━━━━━━━\u001b[0m\u001b[37m\u001b[0m \u001b[1m0s\u001b[0m 3ms/step - accuracy: 0.9871 - loss: 0.4788 - val_accuracy: 1.0000 - val_loss: 0.4134\n",
      "Epoch 4/10\n",
      "\u001b[1m13/13\u001b[0m \u001b[32m━━━━━━━━━━━━━━━━━━━━\u001b[0m\u001b[37m\u001b[0m \u001b[1m0s\u001b[0m 3ms/step - accuracy: 0.9883 - loss: 0.3904 - val_accuracy: 1.0000 - val_loss: 0.3367\n",
      "Epoch 5/10\n",
      "\u001b[1m13/13\u001b[0m \u001b[32m━━━━━━━━━━━━━━━━━━━━\u001b[0m\u001b[37m\u001b[0m \u001b[1m0s\u001b[0m 3ms/step - accuracy: 0.9884 - loss: 0.3112 - val_accuracy: 1.0000 - val_loss: 0.2708\n",
      "Epoch 6/10\n",
      "\u001b[1m13/13\u001b[0m \u001b[32m━━━━━━━━━━━━━━━━━━━━\u001b[0m\u001b[37m\u001b[0m \u001b[1m0s\u001b[0m 4ms/step - accuracy: 0.9992 - loss: 0.2518 - val_accuracy: 1.0000 - val_loss: 0.2158\n",
      "Epoch 7/10\n",
      "\u001b[1m13/13\u001b[0m \u001b[32m━━━━━━━━━━━━━━━━━━━━\u001b[0m\u001b[37m\u001b[0m \u001b[1m0s\u001b[0m 3ms/step - accuracy: 0.9980 - loss: 0.2059 - val_accuracy: 1.0000 - val_loss: 0.1712\n",
      "Epoch 8/10\n",
      "\u001b[1m13/13\u001b[0m \u001b[32m━━━━━━━━━━━━━━━━━━━━\u001b[0m\u001b[37m\u001b[0m \u001b[1m0s\u001b[0m 4ms/step - accuracy: 1.0000 - loss: 0.1590 - val_accuracy: 1.0000 - val_loss: 0.1360\n",
      "Epoch 9/10\n",
      "\u001b[1m13/13\u001b[0m \u001b[32m━━━━━━━━━━━━━━━━━━━━\u001b[0m\u001b[37m\u001b[0m \u001b[1m0s\u001b[0m 3ms/step - accuracy: 1.0000 - loss: 0.1383 - val_accuracy: 1.0000 - val_loss: 0.1082\n",
      "Epoch 10/10\n",
      "\u001b[1m13/13\u001b[0m \u001b[32m━━━━━━━━━━━━━━━━━━━━\u001b[0m\u001b[37m\u001b[0m \u001b[1m0s\u001b[0m 4ms/step - accuracy: 0.9987 - loss: 0.1109 - val_accuracy: 1.0000 - val_loss: 0.0868\n",
      "\u001b[1m14/14\u001b[0m \u001b[32m━━━━━━━━━━━━━━━━━━━━\u001b[0m\u001b[37m\u001b[0m \u001b[1m0s\u001b[0m 2ms/step \n",
      "Final Ensemble Test Accuracy: 87.76%\n",
      "Meta-classifier model saved as meta_classifiereap.h5\n"
     ]
    }
   ],
   "source": [
    "import numpy as np\n",
    "from sklearn.model_selection import train_test_split\n",
    "from sklearn.preprocessing import StandardScaler\n",
    "from sklearn.metrics import accuracy_score\n",
    "from xgboost import XGBClassifier\n",
    "from tensorflow.keras.models import Model\n",
    "from tensorflow.keras.layers import Input, Dense, Conv1D, Flatten, Dropout, concatenate\n",
    "from tensorflow.keras.utils import to_categorical\n",
    "\n",
    "# Assuming df is the pre-processed DataFrame\n",
    "X = df.drop('Attrition', axis=1)\n",
    "y = df['Attrition'].astype(int)\n",
    "\n",
    "# One-hot encode the target if it's categorical\n",
    "y_categorical = to_categorical(y)\n",
    "\n",
    "# Scale the features for CNN-ANN\n",
    "scaler = StandardScaler()\n",
    "X_scaled = scaler.fit_transform(X)\n",
    "\n",
    "# Reshape data for CNN input\n",
    "X_cnn = X_scaled.reshape(X_scaled.shape[0], X_scaled.shape[1], 1)\n",
    "\n",
    "# Split the dataset\n",
    "X_train, X_test, y_train, y_test = train_test_split(X, y, test_size=0.30, random_state=42)\n",
    "X_train_cnn, X_test_cnn, y_train_cnn, y_test_cnn = train_test_split(X_cnn, y_categorical, test_size=0.30, random_state=42)\n",
    "\n",
    "# -------------------- Step 1: Train XGBoost --------------------\n",
    "xgb = XGBClassifier()\n",
    "xgb.fit(X_train, y_train)\n",
    "\n",
    "# XGBoost predictions (probabilities)\n",
    "xgb_train_preds = xgb.predict_proba(X_train)\n",
    "xgb_test_preds = xgb.predict_proba(X_test)\n",
    "\n",
    "# -------------------- Step 2: Train CNN-ANN --------------------\n",
    "# Define CNN-ANN model\n",
    "input_layer = Input(shape=(X_train_cnn.shape[1], X_train_cnn.shape[2]))\n",
    "\n",
    "# CNN branch\n",
    "cnn_layer = Conv1D(filters=32, kernel_size=3, activation='relu')(input_layer)\n",
    "cnn_layer = Conv1D(filters=64, kernel_size=3, activation='relu')(cnn_layer)\n",
    "cnn_layer = Flatten()(cnn_layer)\n",
    "\n",
    "# ANN branch\n",
    "ann_layer = Dense(128, activation='relu')(cnn_layer)\n",
    "ann_layer = Dropout(0.5)(ann_layer)\n",
    "ann_layer = Dense(64, activation='relu')(ann_layer)\n",
    "\n",
    "# Output layer\n",
    "output_layer = Dense(y_train_cnn.shape[1], activation='softmax')(ann_layer)\n",
    "\n",
    "# Compile the model\n",
    "cnn_ann_model = Model(inputs=input_layer, outputs=output_layer)\n",
    "cnn_ann_model.compile(optimizer='adam', loss='categorical_crossentropy', metrics=['accuracy'])\n",
    "\n",
    "# Train the CNN-ANN model\n",
    "cnn_ann_model.fit(X_train_cnn, y_train_cnn, epochs=5, batch_size=32, validation_split=0.2)\n",
    "\n",
    "# CNN-ANN predictions (probabilities)\n",
    "cnn_train_preds = cnn_ann_model.predict(X_train_cnn)\n",
    "cnn_test_preds = cnn_ann_model.predict(X_test_cnn)\n",
    "\n",
    "# -------------------- Step 3: Combine Predictions --------------------\n",
    "# Concatenate XGBoost and CNN-ANN predictions\n",
    "train_combined = np.hstack((xgb_train_preds, cnn_train_preds))\n",
    "test_combined = np.hstack((xgb_test_preds, cnn_test_preds))\n",
    "\n",
    "# -------------------- Step 4: Train Meta-Classifier --------------------\n",
    "# Use a simple ANN as the meta-classifier\n",
    "meta_input = Input(shape=(train_combined.shape[1],))\n",
    "meta_layer = Dense(64, activation='relu')(meta_input)\n",
    "meta_layer = Dropout(0.3)(meta_layer)\n",
    "meta_output = Dense(y_train_cnn.shape[1], activation='softmax')(meta_layer)\n",
    "\n",
    "meta_model = Model(inputs=meta_input, outputs=meta_output)\n",
    "meta_model.compile(optimizer='adam', loss='categorical_crossentropy', metrics=['accuracy'])\n",
    "\n",
    "# Train the meta-classifier\n",
    "meta_model.fit(train_combined, y_train_cnn, epochs=10, batch_size=64, validation_split=0.2)\n",
    "\n",
    "# -------------------- Step 5: Evaluate the Ensemble --------------------\n",
    "# Evaluate on the test set\n",
    "final_test_preds = meta_model.predict(test_combined)\n",
    "final_test_accuracy = accuracy_score(y_test, np.argmax(final_test_preds, axis=1))\n",
    "\n",
    "print(f\"Final Ensemble Test Accuracy: {final_test_accuracy * 100:.2f}%\")\n",
    "# Save the meta-classifier ANN model\n",
    "meta_model.save('meta_classifiereapmp.h5')\n",
    "print(\"Meta-classifier model saved as meta_classifiereap.h5\")\n"
   ]
  },
  {
   "cell_type": "code",
   "execution_count": 33,
   "metadata": {
    "execution": {
     "iopub.execute_input": "2024-12-17T09:15:28.629978Z",
     "iopub.status.busy": "2024-12-17T09:15:28.629650Z",
     "iopub.status.idle": "2024-12-17T09:15:28.666240Z",
     "shell.execute_reply": "2024-12-17T09:15:28.664699Z",
     "shell.execute_reply.started": "2024-12-17T09:15:28.629953Z"
    },
    "trusted": true
   },
   "outputs": [
    {
     "data": {
      "text/html": [
       "<div>\n",
       "<style scoped>\n",
       "    .dataframe tbody tr th:only-of-type {\n",
       "        vertical-align: middle;\n",
       "    }\n",
       "\n",
       "    .dataframe tbody tr th {\n",
       "        vertical-align: top;\n",
       "    }\n",
       "\n",
       "    .dataframe thead th {\n",
       "        text-align: right;\n",
       "    }\n",
       "</style>\n",
       "<table border=\"1\" class=\"dataframe\">\n",
       "  <thead>\n",
       "    <tr style=\"text-align: right;\">\n",
       "      <th></th>\n",
       "      <th>Age</th>\n",
       "      <th>Attrition</th>\n",
       "      <th>DailyRate</th>\n",
       "      <th>DistanceFromHome</th>\n",
       "      <th>EnvironmentSatisfaction</th>\n",
       "      <th>JobInvolvement</th>\n",
       "      <th>JobLevel</th>\n",
       "      <th>JobSatisfaction</th>\n",
       "      <th>MaritalStatus</th>\n",
       "      <th>MonthlyIncome</th>\n",
       "      <th>...</th>\n",
       "      <th>EducationField_Technical Degree</th>\n",
       "      <th>JobRole_Human Resources</th>\n",
       "      <th>JobRole_Laboratory Technician</th>\n",
       "      <th>JobRole_Manager</th>\n",
       "      <th>JobRole_Manufacturing Director</th>\n",
       "      <th>JobRole_Research Director</th>\n",
       "      <th>JobRole_Research Scientist</th>\n",
       "      <th>JobRole_Sales Executive</th>\n",
       "      <th>JobRole_Sales Representative</th>\n",
       "      <th>attrition_probability</th>\n",
       "    </tr>\n",
       "  </thead>\n",
       "  <tbody>\n",
       "    <tr>\n",
       "      <th>0</th>\n",
       "      <td>41</td>\n",
       "      <td>1</td>\n",
       "      <td>1102</td>\n",
       "      <td>1</td>\n",
       "      <td>2</td>\n",
       "      <td>3</td>\n",
       "      <td>2</td>\n",
       "      <td>4</td>\n",
       "      <td>2</td>\n",
       "      <td>5993</td>\n",
       "      <td>...</td>\n",
       "      <td>False</td>\n",
       "      <td>False</td>\n",
       "      <td>False</td>\n",
       "      <td>False</td>\n",
       "      <td>False</td>\n",
       "      <td>False</td>\n",
       "      <td>False</td>\n",
       "      <td>True</td>\n",
       "      <td>False</td>\n",
       "      <td>94.763151</td>\n",
       "    </tr>\n",
       "    <tr>\n",
       "      <th>1</th>\n",
       "      <td>49</td>\n",
       "      <td>0</td>\n",
       "      <td>279</td>\n",
       "      <td>8</td>\n",
       "      <td>3</td>\n",
       "      <td>2</td>\n",
       "      <td>2</td>\n",
       "      <td>2</td>\n",
       "      <td>1</td>\n",
       "      <td>5130</td>\n",
       "      <td>...</td>\n",
       "      <td>False</td>\n",
       "      <td>False</td>\n",
       "      <td>False</td>\n",
       "      <td>False</td>\n",
       "      <td>False</td>\n",
       "      <td>False</td>\n",
       "      <td>True</td>\n",
       "      <td>False</td>\n",
       "      <td>False</td>\n",
       "      <td>0.160272</td>\n",
       "    </tr>\n",
       "    <tr>\n",
       "      <th>2</th>\n",
       "      <td>37</td>\n",
       "      <td>1</td>\n",
       "      <td>1373</td>\n",
       "      <td>2</td>\n",
       "      <td>4</td>\n",
       "      <td>2</td>\n",
       "      <td>1</td>\n",
       "      <td>3</td>\n",
       "      <td>2</td>\n",
       "      <td>2090</td>\n",
       "      <td>...</td>\n",
       "      <td>False</td>\n",
       "      <td>False</td>\n",
       "      <td>True</td>\n",
       "      <td>False</td>\n",
       "      <td>False</td>\n",
       "      <td>False</td>\n",
       "      <td>False</td>\n",
       "      <td>False</td>\n",
       "      <td>False</td>\n",
       "      <td>95.656485</td>\n",
       "    </tr>\n",
       "    <tr>\n",
       "      <th>3</th>\n",
       "      <td>33</td>\n",
       "      <td>0</td>\n",
       "      <td>1392</td>\n",
       "      <td>3</td>\n",
       "      <td>4</td>\n",
       "      <td>3</td>\n",
       "      <td>1</td>\n",
       "      <td>3</td>\n",
       "      <td>1</td>\n",
       "      <td>2909</td>\n",
       "      <td>...</td>\n",
       "      <td>False</td>\n",
       "      <td>False</td>\n",
       "      <td>False</td>\n",
       "      <td>False</td>\n",
       "      <td>False</td>\n",
       "      <td>False</td>\n",
       "      <td>True</td>\n",
       "      <td>False</td>\n",
       "      <td>False</td>\n",
       "      <td>1.563660</td>\n",
       "    </tr>\n",
       "    <tr>\n",
       "      <th>4</th>\n",
       "      <td>27</td>\n",
       "      <td>0</td>\n",
       "      <td>591</td>\n",
       "      <td>2</td>\n",
       "      <td>1</td>\n",
       "      <td>3</td>\n",
       "      <td>1</td>\n",
       "      <td>2</td>\n",
       "      <td>1</td>\n",
       "      <td>3468</td>\n",
       "      <td>...</td>\n",
       "      <td>False</td>\n",
       "      <td>False</td>\n",
       "      <td>True</td>\n",
       "      <td>False</td>\n",
       "      <td>False</td>\n",
       "      <td>False</td>\n",
       "      <td>False</td>\n",
       "      <td>False</td>\n",
       "      <td>False</td>\n",
       "      <td>4.863055</td>\n",
       "    </tr>\n",
       "  </tbody>\n",
       "</table>\n",
       "<p>5 rows × 38 columns</p>\n",
       "</div>"
      ],
      "text/plain": [
       "   Age  Attrition  DailyRate  DistanceFromHome  EnvironmentSatisfaction  \\\n",
       "0   41          1       1102                 1                        2   \n",
       "1   49          0        279                 8                        3   \n",
       "2   37          1       1373                 2                        4   \n",
       "3   33          0       1392                 3                        4   \n",
       "4   27          0        591                 2                        1   \n",
       "\n",
       "   JobInvolvement  JobLevel  JobSatisfaction  MaritalStatus  MonthlyIncome  \\\n",
       "0               3         2                4              2           5993   \n",
       "1               2         2                2              1           5130   \n",
       "2               2         1                3              2           2090   \n",
       "3               3         1                3              1           2909   \n",
       "4               3         1                2              1           3468   \n",
       "\n",
       "   ...  EducationField_Technical Degree  JobRole_Human Resources  \\\n",
       "0  ...                            False                    False   \n",
       "1  ...                            False                    False   \n",
       "2  ...                            False                    False   \n",
       "3  ...                            False                    False   \n",
       "4  ...                            False                    False   \n",
       "\n",
       "   JobRole_Laboratory Technician  JobRole_Manager  \\\n",
       "0                          False            False   \n",
       "1                          False            False   \n",
       "2                           True            False   \n",
       "3                          False            False   \n",
       "4                           True            False   \n",
       "\n",
       "   JobRole_Manufacturing Director  JobRole_Research Director  \\\n",
       "0                           False                      False   \n",
       "1                           False                      False   \n",
       "2                           False                      False   \n",
       "3                           False                      False   \n",
       "4                           False                      False   \n",
       "\n",
       "   JobRole_Research Scientist  JobRole_Sales Executive  \\\n",
       "0                       False                     True   \n",
       "1                        True                    False   \n",
       "2                       False                    False   \n",
       "3                        True                    False   \n",
       "4                       False                    False   \n",
       "\n",
       "   JobRole_Sales Representative  attrition_probability  \n",
       "0                         False              94.763151  \n",
       "1                         False               0.160272  \n",
       "2                         False              95.656485  \n",
       "3                         False               1.563660  \n",
       "4                         False               4.863055  \n",
       "\n",
       "[5 rows x 38 columns]"
      ]
     },
     "execution_count": 33,
     "metadata": {},
     "output_type": "execute_result"
    }
   ],
   "source": [
    "import joblib\n",
    "import pandas as pd\n",
    "from sklearn.model_selection import train_test_split\n",
    "\n",
    "# Load your trained model (either from VotingClassifier, StackingClassifier, or individual model)\n",
    "model = joblib.load('/kaggle/working/eapmp_LGB.pkl') \n",
    "\n",
    "\n",
    "# Assuming you have a dataset `X` (features) ready to predict on\n",
    "# Example: Load or prepare your dataset\n",
    "# X = pd.read_csv('your_data.csv')  # Your data goes here\n",
    "\n",
    "# Predict probabilities of attrition (assuming binary classification: 0 = No attrition, 1 = Attrition)\n",
    "attrition_prob = model.predict_proba(X)[:, 1]  # Get the probability for class '1' (attrition)\n",
    "att=attrition_prob*100\n",
    "# Add the predicted probability as a new column to the dataset\n",
    "df['attrition_probability'] = att\n",
    "\n",
    "# Optionally, save the updated dataset with the new column\n",
    "#X.to_csv('data_with_attrition_probability.csv', index=False)\n",
    "\n",
    "# Print the first few rows to verify\n",
    "df.head()"
   ]
  },
  {
   "cell_type": "code",
   "execution_count": 36,
   "metadata": {
    "execution": {
     "iopub.execute_input": "2024-12-17T09:16:33.518146Z",
     "iopub.status.busy": "2024-12-17T09:16:33.517783Z",
     "iopub.status.idle": "2024-12-17T09:16:33.529202Z",
     "shell.execute_reply": "2024-12-17T09:16:33.527939Z",
     "shell.execute_reply.started": "2024-12-17T09:16:33.518119Z"
    },
    "trusted": true
   },
   "outputs": [
    {
     "name": "stdout",
     "output_type": "stream",
     "text": [
      "<class 'pandas.core.frame.DataFrame'>\n",
      "RangeIndex: 1470 entries, 0 to 1469\n",
      "Data columns (total 36 columns):\n",
      " #   Column                             Non-Null Count  Dtype\n",
      "---  ------                             --------------  -----\n",
      " 0   Age                                1470 non-null   int64\n",
      " 1   DailyRate                          1470 non-null   int64\n",
      " 2   DistanceFromHome                   1470 non-null   int64\n",
      " 3   EnvironmentSatisfaction            1470 non-null   int64\n",
      " 4   JobInvolvement                     1470 non-null   int64\n",
      " 5   JobLevel                           1470 non-null   int64\n",
      " 6   JobSatisfaction                    1470 non-null   int64\n",
      " 7   MaritalStatus                      1470 non-null   int64\n",
      " 8   MonthlyIncome                      1470 non-null   int64\n",
      " 9   OverTime                           1470 non-null   int64\n",
      " 10  RelationshipSatisfaction           1470 non-null   int64\n",
      " 11  StockOptionLevel                   1470 non-null   int64\n",
      " 12  TotalWorkingYears                  1470 non-null   int64\n",
      " 13  TrainingTimesLastYear              1470 non-null   int64\n",
      " 14  WorkLifeBalance                    1470 non-null   int64\n",
      " 15  YearsAtCompany                     1470 non-null   int64\n",
      " 16  YearsInCurrentRole                 1470 non-null   int64\n",
      " 17  YearsSinceLastPromotion            1470 non-null   int64\n",
      " 18  YearsWithCurrManager               1470 non-null   int64\n",
      " 19  BusinessTravel_Travel_Frequently   1470 non-null   bool \n",
      " 20  BusinessTravel_Travel_Rarely       1470 non-null   bool \n",
      " 21  Department_Research & Development  1470 non-null   bool \n",
      " 22  Department_Sales                   1470 non-null   bool \n",
      " 23  EducationField_Life Sciences       1470 non-null   bool \n",
      " 24  EducationField_Marketing           1470 non-null   bool \n",
      " 25  EducationField_Medical             1470 non-null   bool \n",
      " 26  EducationField_Other               1470 non-null   bool \n",
      " 27  EducationField_Technical Degree    1470 non-null   bool \n",
      " 28  JobRole_Human Resources            1470 non-null   bool \n",
      " 29  JobRole_Laboratory Technician      1470 non-null   bool \n",
      " 30  JobRole_Manager                    1470 non-null   bool \n",
      " 31  JobRole_Manufacturing Director     1470 non-null   bool \n",
      " 32  JobRole_Research Director          1470 non-null   bool \n",
      " 33  JobRole_Research Scientist         1470 non-null   bool \n",
      " 34  JobRole_Sales Executive            1470 non-null   bool \n",
      " 35  JobRole_Sales Representative       1470 non-null   bool \n",
      "dtypes: bool(17), int64(19)\n",
      "memory usage: 242.7 KB\n"
     ]
    }
   ],
   "source": [
    "X.info()"
   ]
  },
  {
   "cell_type": "code",
   "execution_count": 46,
   "metadata": {
    "execution": {
     "iopub.execute_input": "2024-12-17T09:26:17.444435Z",
     "iopub.status.busy": "2024-12-17T09:26:17.444077Z",
     "iopub.status.idle": "2024-12-17T09:26:17.460572Z",
     "shell.execute_reply": "2024-12-17T09:26:17.459719Z",
     "shell.execute_reply.started": "2024-12-17T09:26:17.444408Z"
    },
    "trusted": true
   },
   "outputs": [
    {
     "name": "stdout",
     "output_type": "stream",
     "text": [
      "Attrition Prediction: No Attrition\n"
     ]
    }
   ],
   "source": [
    "import pandas as pd\n",
    "import joblib\n",
    "\n",
    "# Function to load the model\n",
    "def load_model(model_path):\n",
    "    \"\"\"\n",
    "    Loads the trained model from the specified path.\n",
    "    \"\"\"\n",
    "    try:\n",
    "        model = joblib.load('/kaggle/working/eapmp_LGB.pkl')\n",
    "        #print(\"Model loaded successfully!\")\n",
    "        return model\n",
    "    except FileNotFoundError:\n",
    "        print(f\"Error: Model file not found at {model_path}\")\n",
    "        return None\n",
    "\n",
    "# Function to preprocess input data\n",
    "def preprocess_input(input_data, feature_columns):\n",
    "    \"\"\"\n",
    "    Converts user input into a DataFrame and ensures it matches the training features.\n",
    "    \"\"\"\n",
    "    input_df = pd.DataFrame([input_data])\n",
    "    input_df = input_df[feature_columns]  # Reorder columns to match training data\n",
    "    return input_df\n",
    "\n",
    "# Function to make predictions\n",
    "def predict_attrition(model, input_df):\n",
    "    \"\"\"\n",
    "    Predicts attrition probability and class using the trained model.\n",
    "    \"\"\"\n",
    "    # Predict probability of attrition\n",
    "    #attrition_probability = model.predict_proba(input_df)[:, 1]\n",
    "    # Predict the class (0 or 1)\n",
    "    attrition_prediction = model.predict(input_df)\n",
    "    \n",
    "    # Format results\n",
    "    #probability = round(attrition_probability[0] * 100, 2)\n",
    "    prediction = \"Attrition\" if attrition_prediction[0] == 1 else \"No Attrition\"\n",
    "    return  prediction\n",
    "\n",
    "# Main script\n",
    "if __name__ == \"__main__\":\n",
    "    # Path to the trained model\n",
    "    model_path = '/kaggle/working/eap_LGB.pkl'  # Replace with the actual model path\n",
    "    \n",
    "    # Load the model\n",
    "    model = load_model(model_path)\n",
    "    \n",
    "    if model:\n",
    "        # Example input data from the user (35 attributes only)\n",
    "        input_data = {\n",
    "            'Age': 25,\n",
    "            'DailyRate': 1102,\n",
    "            'DistanceFromHome': 1,\n",
    "            'EnvironmentSatisfaction': 2,\n",
    "            'JobInvolvement': 3,\n",
    "            'JobLevel': 2,\n",
    "            'JobSatisfaction': 4,\n",
    "            'MaritalStatus': 2,\n",
    "            'MonthlyIncome': 5000,\n",
    "            'OverTime': 1,\n",
    "            'RelationshipSatisfaction': 1,\n",
    "            'StockOptionLevel': 2,\n",
    "            'TotalWorkingYears': 5,\n",
    "            'TrainingTimesLastYear': 1,\n",
    "            'WorkLifeBalance': 1,\n",
    "            'YearsAtCompany': 5,\n",
    "            'YearsInCurrentRole': 4,\n",
    "            'YearsSinceLastPromotion': 1,\n",
    "            'YearsWithCurrManager': 3,\n",
    "            'BusinessTravel_Travel_Frequently': 0,\n",
    "            'BusinessTravel_Travel_Rarely': 1,\n",
    "            'Department_Research & Development': 0,\n",
    "            'Department_Sales': 1,\n",
    "            'EducationField_Life Sciences': 0,\n",
    "            'EducationField_Marketing': 1,\n",
    "            'EducationField_Medical': 0,\n",
    "            'EducationField_Other': 0,\n",
    "            'EducationField_Technical Degree': 0,\n",
    "            'JobRole_Human Resources': 0,\n",
    "            'JobRole_Laboratory Technician': 0,\n",
    "            'JobRole_Manager': 0,\n",
    "            'JobRole_Manufacturing Director': 0,\n",
    "            'JobRole_Research Director': 0,\n",
    "            'JobRole_Research Scientist': 0,\n",
    "            'JobRole_Sales Executive': 1,\n",
    "            'JobRole_Sales Representative': 0\n",
    "        }\n",
    "\n",
    "        # Feature columns (35 attributes only)\n",
    "        feature_columns = [\n",
    "            'Age', 'DailyRate', 'DistanceFromHome', 'EnvironmentSatisfaction',\n",
    "            'JobInvolvement', 'JobLevel', 'JobSatisfaction', 'MaritalStatus',\n",
    "            'MonthlyIncome', 'OverTime', 'RelationshipSatisfaction', 'StockOptionLevel',\n",
    "            'TotalWorkingYears', 'TrainingTimesLastYear', 'WorkLifeBalance', \n",
    "            'YearsAtCompany', 'YearsInCurrentRole', 'YearsSinceLastPromotion', \n",
    "            'YearsWithCurrManager', 'BusinessTravel_Travel_Frequently', \n",
    "            'BusinessTravel_Travel_Rarely', 'Department_Research & Development', \n",
    "            'Department_Sales', 'EducationField_Life Sciences', \n",
    "            'EducationField_Marketing', 'EducationField_Medical', \n",
    "            'EducationField_Other', 'EducationField_Technical Degree', \n",
    "            'JobRole_Human Resources', 'JobRole_Laboratory Technician', \n",
    "            'JobRole_Manager', 'JobRole_Manufacturing Director', \n",
    "            'JobRole_Research Director', 'JobRole_Research Scientist', \n",
    "            'JobRole_Sales Executive', 'JobRole_Sales Representative'\n",
    "        ]\n",
    "\n",
    "        # Preprocess input data\n",
    "        input_df = preprocess_input(input_data, feature_columns)\n",
    "        \n",
    "        # Make predictions\n",
    "        prediction = predict_attrition(model, input_df)\n",
    "        \n",
    "        # Display results\n",
    "        #print(f\"Attrition Probability: {probability}%\")\n",
    "        print(f\"Attrition Prediction: {prediction}\")\n"
   ]
  },
  {
   "cell_type": "code",
   "execution_count": null,
   "metadata": {
    "trusted": true
   },
   "outputs": [],
   "source": []
  }
 ],
 "metadata": {
  "kaggle": {
   "accelerator": "none",
   "dataSources": [
    {
     "datasetId": 1067,
     "sourceId": 1925,
     "sourceType": "datasetVersion"
    }
   ],
   "dockerImageVersionId": 30804,
   "isGpuEnabled": false,
   "isInternetEnabled": false,
   "language": "python",
   "sourceType": "notebook"
  },
  "kernelspec": {
   "display_name": "Python 3",
   "language": "python",
   "name": "python3"
  },
  "language_info": {
   "codemirror_mode": {
    "name": "ipython",
    "version": 3
   },
   "file_extension": ".py",
   "mimetype": "text/x-python",
   "name": "python",
   "nbconvert_exporter": "python",
   "pygments_lexer": "ipython3",
   "version": "3.10.14"
  }
 },
 "nbformat": 4,
 "nbformat_minor": 4
}
